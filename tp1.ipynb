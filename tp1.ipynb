{
 "cells": [
  {
   "cell_type": "code",
   "execution_count": null,
   "metadata": {},
   "outputs": [],
   "source": [
    "import pandas as pd\n",
    "import matplotlib.pyplot as plt\n",
    "import seaborn as sns\n",
    "import plotly.express as px\n",
    "import plotly.graph_objects as go\n",
    "from plotly.subplots import make_subplots"
   ]
  },
  {
   "cell_type": "markdown",
   "metadata": {},
   "source": [
    "# Carga del Dataset"
   ]
  },
  {
   "cell_type": "code",
   "execution_count": null,
   "metadata": {},
   "outputs": [],
   "source": [
    "df : pd.DataFrame = pd.read_csv('dxCropRecommendation.csv')\n",
    "df.head()"
   ]
  },
  {
   "cell_type": "markdown",
   "metadata": {},
   "source": [
    "# Analisis Exploratorio "
   ]
  },
  {
   "cell_type": "code",
   "execution_count": null,
   "metadata": {},
   "outputs": [],
   "source": [
    "# Analisis valores nulos y faltantes \n",
    "df.isna().sum()"
   ]
  },
  {
   "cell_type": "code",
   "execution_count": null,
   "metadata": {},
   "outputs": [],
   "source": [
    "\"\"\" \n",
    "Boxplot distribución total de las variables \n",
    "\"\"\"\n",
    "\n",
    "# Excluir la columna 'Cultivo' y transformar el DataFrame a formato largo\n",
    "df_largo = df.melt(id_vars=['Cultivo'], var_name='Variable', value_name='Valor')\n",
    "\n",
    "# Crear el box plot usando plotly express\n",
    "fig = px.box(df_largo, x='Variable', y='Valor', color= 'Variable')\n",
    "\n",
    "# Mostrar la figura\n",
    "fig.show()\n"
   ]
  },
  {
   "cell_type": "code",
   "execution_count": null,
   "metadata": {},
   "outputs": [],
   "source": [
    "\"\"\" \n",
    "Boxplot de distribución de cada variable dependiendo el cultivo  \n",
    "\"\"\"\n",
    "\n",
    "columns = df.columns.drop('Cultivo')\n",
    "\n",
    "for column in columns: \n",
    "    fig = px.box(df, x='Cultivo', y= column, color= 'Cultivo', title=f\"Distribución de {column} por cultivo\")\n",
    "    fig.show()"
   ]
  },
  {
   "cell_type": "code",
   "execution_count": null,
   "metadata": {},
   "outputs": [],
   "source": [
    "\"\"\" \n",
    "Boxplot de distribucion de la variable dependiendo el cultivo\n",
    "\"\"\"\n",
    "\n",
    "fig = make_subplots(rows=1, cols=1)\n",
    "\n",
    "dropdown_options = []\n",
    "columns = df.columns.drop('Cultivo')\n",
    "\n",
    "for column in columns:\n",
    "    fig.add_trace(\n",
    "        go.Box(\n",
    "            y=df[column],\n",
    "            x=df['Cultivo'],\n",
    "            name=column,\n",
    "            marker_color = 'tomato'\n",
    "        ),\n",
    "        row=1, col=1\n",
    "    )\n",
    "    dropdown_options.append({\n",
    "        'label': column,\n",
    "        'method': 'update',\n",
    "        'args': [{'visible': [col == column for col in columns]},\n",
    "                 {'title': f\"Distribución de {column} por cultivo\"}]\n",
    "    })\n",
    "\n",
    "# Inicialmente, mostrar solo la primera columna\n",
    "fig.update_traces(visible=False)\n",
    "fig.data[0].visible = True\n",
    "\n",
    "fig.update_layout(\n",
    "    updatemenus=[{\n",
    "        'buttons': dropdown_options,\n",
    "        'direction': 'down',\n",
    "        'showactive': True,\n",
    "        'x': 0.5,\n",
    "        'y': 1.15,\n",
    "        'xanchor': 'center',\n",
    "        'yanchor': 'top'\n",
    "    }],\n",
    "    title_text=f\"Distribución de {columns[0]} por cultivo\",\n",
    ")\n",
    "\n",
    "fig.show()"
   ]
  }
 ],
 "metadata": {
  "kernelspec": {
   "display_name": ".venv",
   "language": "python",
   "name": "python3"
  },
  "language_info": {
   "codemirror_mode": {
    "name": "ipython",
    "version": 3
   },
   "file_extension": ".py",
   "mimetype": "text/x-python",
   "name": "python",
   "nbconvert_exporter": "python",
   "pygments_lexer": "ipython3",
   "version": "3.10.11"
  }
 },
 "nbformat": 4,
 "nbformat_minor": 2
}
